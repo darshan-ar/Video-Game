{
 "cells": [
  {
   "cell_type": "code",
   "execution_count": 217,
   "metadata": {},
   "outputs": [],
   "source": [
    "import matplotlib.pyplot as plt\n",
    "import numpy as np\n",
    "import cv2\n",
    "import torch\n",
    "import torch.nn as nn\n",
    "import torch.optim as optim\n",
    "import torchvision\n",
    "import torch.utils.data as Data"
   ]
  },
  {
   "cell_type": "code",
   "execution_count": 218,
   "metadata": {},
   "outputs": [],
   "source": [
    "seed = 42\n",
    "torch.manual_seed(seed)\n",
    "torch.backends.cudnn.benchmark = False\n",
    "torch.backends.cudnn.deterministic = True"
   ]
  },
  {
   "cell_type": "code",
   "execution_count": 219,
   "metadata": {},
   "outputs": [],
   "source": [
    "batch_size = 512\n",
    "epochs = 20\n",
    "learning_rate = 1e-3"
   ]
  },
  {
   "cell_type": "code",
   "execution_count": 220,
   "metadata": {},
   "outputs": [
    {
     "name": "stdout",
     "output_type": "stream",
     "text": [
      "(20000, 32, 32, 3)\n",
      "(20000, 32, 32)\n"
     ]
    }
   ],
   "source": [
    "data1 = cv2.imread('pos1_32x32.png')\n",
    "data2= cv2.imread('pos2_32x32.png')\n",
    "\n",
    "result = np.repeat(data1[np.newaxis,...], 20000, axis=0)\n",
    "print(result.shape)\n",
    "y0 = result.astype('float32')\n",
    "\n",
    "\n",
    "\n",
    "\n",
    "result1 = np.repeat(data2[np.newaxis,...], 20000, axis=0)\n",
    "y1 = result1.astype('float32')\n",
    "\n",
    "y0 = y0[:,:,:,0]\n",
    "y1 = y1[:,:,:,0]\n",
    "print(y0.shape)\n",
    "\n",
    "x = torch.from_numpy(y0)\n",
    "y = torch.from_numpy(y1)\n",
    "\n",
    "\n",
    "\n",
    "torch_dataset = Data.TensorDataset(x,y)\n",
    "\n",
    "\n",
    "loader = Data.DataLoader(\n",
    "\n",
    "    dataset=torch_dataset,\n",
    "\n",
    "    batch_size=250,\n",
    "\n",
    "    shuffle=True,\n",
    "\n",
    "    num_workers=0,\n",
    "\n",
    ")\n"
   ]
  },
  {
   "cell_type": "code",
   "execution_count": 221,
   "metadata": {},
   "outputs": [],
   "source": [
    "class AE(nn.Module):\n",
    "    def __init__(self, **kwargs):\n",
    "        super().__init__()\n",
    "        self.encoder_hidden_layer = nn.Linear(\n",
    "            in_features=kwargs[\"input_shape\"], out_features=128\n",
    "        )\n",
    "        self.encoder_output_layer = nn.Linear(\n",
    "            in_features=128, out_features=64\n",
    "        )\n",
    "        self.encoder_output_layer_1 = nn.Linear(\n",
    "            in_features=64, out_features=32\n",
    "        )\n",
    "        self.encoder_output_layer_2 = nn.Linear(\n",
    "            in_features=32, out_features=16\n",
    "        )\n",
    "        self.encoder_output_layer_3 = nn.Linear(\n",
    "            in_features=16, out_features=8\n",
    "        )\n",
    "\n",
    "\n",
    "    def forward(self, features):\n",
    "        activation = self.encoder_hidden_layer(features)\n",
    "        activation = torch.relu(activation)\n",
    "        code = self.encoder_output_layer(activation)\n",
    "        code = torch.relu(code)\n",
    "        code = self.encoder_output_layer_1(code)\n",
    "        code = torch.relu(code)\n",
    "        code = self.encoder_output_layer_2(code)\n",
    "        code = torch.relu(code)\n",
    "        code = self.encoder_output_layer_3(code)\n",
    "        code = torch.sigmoid(code)\n",
    "        return code"
   ]
  },
  {
   "cell_type": "code",
   "execution_count": 222,
   "metadata": {},
   "outputs": [],
   "source": [
    "#  use gpu if available\n",
    "\n",
    "# create a model from `AE` autoencoder class\n",
    "# load it to the specified device, either gpu or cpu\n",
    "model = AE(input_shape=1024)\n",
    "\n",
    "# create an optimizer object\n",
    "# Adam optimizer with learning rate 1e-3\n",
    "optimizer = optim.Adam(model.parameters(), lr=learning_rate)\n",
    "\n",
    "# mean-squared error loss\n",
    "def h_score(fx, gy):\n",
    " \n",
    "    fx = fx - fx.mean(0)\n",
    "\n",
    "    gy = gy - gy.mean(0)\n",
    "\n",
    "    Nsamples = fx.size(0)\n",
    "\n",
    "    covf = torch.matmul((fx.t()), fx) / Nsamples\n",
    "\n",
    "    covg = torch.matmul((gy.t()), (gy)) / Nsamples\n",
    "\n",
    "    h = -2 * torch.mean((fx * gy).sum(1)) + (covf * covg).sum()\n",
    "\n",
    "    return h"
   ]
  },
  {
   "cell_type": "code",
   "execution_count": 223,
   "metadata": {},
   "outputs": [
    {
     "name": "stdout",
     "output_type": "stream",
     "text": [
      "epoch : 1/20, recon loss = 0.00000000\n",
      "epoch : 2/20, recon loss = -0.00000000\n",
      "epoch : 3/20, recon loss = 0.00000000\n",
      "epoch : 4/20, recon loss = 0.00000000\n",
      "epoch : 5/20, recon loss = 0.00000000\n",
      "epoch : 6/20, recon loss = 0.00000000\n",
      "epoch : 7/20, recon loss = -0.00000000\n",
      "epoch : 8/20, recon loss = -0.00000000\n",
      "epoch : 9/20, recon loss = -0.00000000\n",
      "epoch : 10/20, recon loss = 0.00000000\n",
      "epoch : 11/20, recon loss = 0.00000000\n",
      "epoch : 12/20, recon loss = 0.00000000\n",
      "epoch : 13/20, recon loss = 0.00000000\n",
      "epoch : 14/20, recon loss = -0.00000000\n",
      "epoch : 15/20, recon loss = 0.00000000\n",
      "epoch : 16/20, recon loss = 0.00000000\n",
      "epoch : 17/20, recon loss = 0.00000000\n",
      "epoch : 18/20, recon loss = -0.00000000\n",
      "epoch : 19/20, recon loss = -0.00000000\n",
      "epoch : 20/20, recon loss = -0.00000000\n",
      "epoch : 21/20, recon loss = -0.00000000\n",
      "epoch : 22/20, recon loss = 0.00000000\n",
      "epoch : 23/20, recon loss = -0.00000000\n",
      "epoch : 24/20, recon loss = -0.00000000\n",
      "epoch : 25/20, recon loss = -0.00000000\n",
      "epoch : 26/20, recon loss = -0.00000000\n",
      "epoch : 27/20, recon loss = -0.00000000\n",
      "epoch : 28/20, recon loss = -0.00000000\n",
      "epoch : 29/20, recon loss = -0.00000000\n",
      "epoch : 30/20, recon loss = -0.00000000\n",
      "epoch : 31/20, recon loss = -0.00000000\n",
      "epoch : 32/20, recon loss = -0.00000000\n",
      "epoch : 33/20, recon loss = -0.00000000\n",
      "epoch : 34/20, recon loss = -0.00000000\n",
      "epoch : 35/20, recon loss = -0.00000000\n",
      "epoch : 36/20, recon loss = -0.00000000\n",
      "epoch : 37/20, recon loss = -0.00000000\n",
      "epoch : 38/20, recon loss = -0.00000000\n",
      "epoch : 39/20, recon loss = -0.00000000\n",
      "epoch : 40/20, recon loss = -0.00000000\n",
      "epoch : 41/20, recon loss = -0.00000000\n",
      "epoch : 42/20, recon loss = -0.00000000\n",
      "epoch : 43/20, recon loss = 0.00000000\n",
      "epoch : 44/20, recon loss = 0.00000000\n",
      "epoch : 45/20, recon loss = 0.00000000\n",
      "epoch : 46/20, recon loss = 0.00000000\n",
      "epoch : 47/20, recon loss = -0.00000000\n",
      "epoch : 48/20, recon loss = -0.00000000\n",
      "epoch : 49/20, recon loss = -0.00000000\n",
      "epoch : 50/20, recon loss = -0.00000000\n"
     ]
    }
   ],
   "source": [
    "for epoch in range(50):\n",
    "    loss = 0\n",
    "    for x,y in loader:\n",
    "        # reshape mini-batch data to [N, 784] matrix\n",
    "        # load it to the active device\n",
    "        #print(batch_features[0].shape)\n",
    "        # reset the gradients back to zero\n",
    "        # PyTorch accumulates gradients on subsequent backward passes\n",
    "        optimizer.zero_grad()\n",
    "        x = x.view(-1, 1024)\n",
    "        y = y.view(-1, 1024)\n",
    "        # compute reconstructions        \n",
    "        # compute training reconstruction loss\n",
    "        train_loss = h_score(model(x),model(y))\n",
    "        \n",
    "        # compute accumulated gradients\n",
    "        train_loss.backward()\n",
    "        \n",
    "        # perform parameter update based on current gradients\n",
    "        optimizer.step()\n",
    "        \n",
    "        # add the mini-batch training loss to epoch loss\n",
    "        loss += train_loss.item()\n",
    "    \n",
    "    # compute the epoch training loss\n",
    "    loss = loss / len(train_loader)\n",
    "    \n",
    "    # display the epoch training loss\n",
    "    print(\"epoch : {}/{}, recon loss = {:.8f}\".format(epoch + 1, epochs, loss))"
   ]
  },
  {
   "cell_type": "code",
   "execution_count": 225,
   "metadata": {},
   "outputs": [],
   "source": [
    "\n",
    "test_loader = torch.utils.data.DataLoader(\n",
    "    x, batch_size=200, shuffle=True\n",
    ")\n",
    "\n",
    "test_examples = None\n",
    "\n",
    "with torch.no_grad():\n",
    "    for batch_features in test_loader:\n",
    "        test_examples = batch_features.view(-1, 1024)\n",
    "        reconstruction = model(test_examples)\n",
    "        \n",
    "        break"
   ]
  },
  {
   "cell_type": "markdown",
   "metadata": {},
   "source": [
    "## Visualize Results\n",
    "\n",
    "Let's try to reconstruct some test images using our trained autoencoder."
   ]
  },
  {
   "cell_type": "code",
   "execution_count": 229,
   "metadata": {},
   "outputs": [
    {
     "data": {
      "image/png": "[encoded data removed]",
      "text/plain": [
       "<Figure size 1440x288 with 20 Axes>"
      ]
     },
     "metadata": {
      "needs_background": "light"
     },
     "output_type": "display_data"
    }
   ],
   "source": [
    "with torch.no_grad():\n",
    "    number = 10\n",
    "    plt.figure(figsize=(20, 4))\n",
    "    for index in range(number):\n",
    "        # display original\n",
    "        ax = plt.subplot(2, number, index + 1)\n",
    "        plt.imshow(y0[index])\n",
    "        plt.gray()\n",
    "        ax.get_xaxis().set_visible(False)\n",
    "        ax.get_yaxis().set_visible(False)\n",
    "\n",
    "        # display reconstruction\n",
    "        ax = plt.subplot(2, number, index + 1 + number)\n",
    "        plt.imshow(reconstruction[index].numpy().reshape(2,4 ))\n",
    "        plt.gray()\n",
    "        ax.get_xaxis().set_visible(False)\n",
    "        ax.get_yaxis().set_visible(False)\n",
    "    plt.show()"
   ]
  }
 ],
 "metadata": {
  "kernelspec": {
   "display_name": "Python 3",
   "language": "python",
   "name": "python3"
  },
  "language_info": {
   "codemirror_mode": {
    "name": "ipython",
    "version": 3
   },
   "file_extension": ".py",
   "mimetype": "text/x-python",
   "name": "python",
   "nbconvert_exporter": "python",
   "pygments_lexer": "ipython3",
   "version": "3.7.7"
  }
 },
 "nbformat": 4,
 "nbformat_minor": 2
}
